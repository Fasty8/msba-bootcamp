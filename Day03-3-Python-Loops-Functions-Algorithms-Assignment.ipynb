{
  "cells": [
    {
      "cell_type": "markdown",
      "metadata": {},
      "source": [
        "# Day 3: Python Loops, Functions, and Basic Algorithms\n",
        "## Instructions & Exercises\n",
        "\n",
        "Welcome to Day 3! Today you will practice writing loops, organizing code with functions, and implementing simple algorithms. We build on Days 1–2 and do not repeat earlier topics.\n",
        "\n",
        "---\n"
      ]
    },
    {
      "cell_type": "markdown",
      "metadata": {},
      "source": [
        "## 🎯 Learning Objectives\n",
        "\n",
        "By the end of this lesson, you will be able to:\n",
        "1. Use `for` and `while` loops to iterate and control repetition\n",
        "2. Define and call functions with parameters and return values\n",
        "3. Implement simple algorithms (linear search, max) using loops and functions\n",
        "\n",
        "---\n"
      ]
    },
    {
      "cell_type": "markdown",
      "metadata": {},
      "source": [
        "## 🔁 Section 1: Loops\n",
        "\n",
        "### Exercise 1.1: For Loop — Sales Summary\n",
        "Given `sales = [120, 98, 145, 130, 160, 150]`:\n",
        "1. Use a `for` loop to compute `total`\n",
        "2. Compute `average` using `total` and `len`\n",
        "3. Print `min`, `max`, and `average` (rounded to 2 decimals)"
      ]
    },
    {
      "cell_type": "code",
      "execution_count": 4,
      "metadata": {},
      "outputs": [
        {
          "name": "stdout",
          "output_type": "stream",
          "text": [
            "Min val 98 \n",
            "Max val 160 \n",
            "Average 133.83333333333334\n"
          ]
        }
      ],
      "source": [
        "# Exercise 1.1: Your code here\n",
        "\n",
        "sales = [120, 98, 145, 130, 160, 150]\n",
        "\n",
        "total = 0\n",
        "\n",
        "for i in sales:\n",
        "    total += i\n",
        "\n",
        "sales_avg = total/len(sales)\n",
        "\n",
        "print(\"Min val\", min(sales), \"\\nMax val\", max(sales), \"\\nAverage\", sales_avg)\n"
      ]
    },
    {
      "cell_type": "markdown",
      "metadata": {},
      "source": [
        "### Exercise 1.2: While Loop — Savings Simulator\n",
        "Simulate saving money until a goal is reached.\n",
        "- Start with `balance = 0`\n",
        "- Each month add `deposit = 250`\n",
        "- Stop when `balance >= goal` where `goal = 2000`\n",
        "- Count months and print the final `balance` and `months`\n",
        "\n"
      ]
    },
    {
      "cell_type": "code",
      "execution_count": 5,
      "metadata": {},
      "outputs": [
        {
          "name": "stdout",
          "output_type": "stream",
          "text": [
            "2000 8\n"
          ]
        }
      ],
      "source": [
        "# Exercise 1.2: Your code here\n",
        "\n",
        "balance = 0\n",
        "deposit = 250\n",
        "goal = 2000\n",
        "\n",
        "count = 0\n",
        "\n",
        "while balance < goal:\n",
        "    count += 1\n",
        "    balance += 250\n",
        "\n",
        "print(balance, count)"
      ]
    },
    {
      "cell_type": "markdown",
      "metadata": {},
      "source": [
        "\n",
        "### Exercise 1.3: Loop Patterns — Filter and Transform\n",
        "Given `temperatures = [72, 65, 88, 90, 67, 73, 85]`:\n",
        "1. Build a new list `hot_days` containing temps >= 80 (using a loop)\n",
        "2. Build `celsius` list converting each temp to Celsius: `(f - 32) * 5/9`"
      ]
    },
    {
      "cell_type": "code",
      "execution_count": 6,
      "metadata": {},
      "outputs": [
        {
          "name": "stdout",
          "output_type": "stream",
          "text": [
            "[88, 90, 85]\n",
            "[22.22222222222222, 18.333333333333336, 31.111111111111114, 32.22222222222222, 19.444444444444446, 22.77777777777778, 29.444444444444446]\n"
          ]
        }
      ],
      "source": [
        "# Exercise 1.3: Your code here\n",
        "\n",
        "temperatures = [72, 65, 88, 90, 67, 73, 85]\n",
        "\n",
        "hot_days = []\n",
        "celcius = []\n",
        "for i in temperatures:\n",
        "    if i >= 80:\n",
        "        hot_days.append(i)\n",
        "    celcius.append((i - 32) * (5/9))\n",
        "\n",
        "print(hot_days)\n",
        "print(celcius)"
      ]
    },
    {
      "cell_type": "markdown",
      "metadata": {},
      "source": [
        "---\n",
        "\n",
        "## 🧩 Section 2: Functions\n",
        "\n",
        "### Exercise 2.1: Summary Statistics Function\n",
        "Write a function `summary_stats(numbers)` that returns a dictionary with `min`, `max`, and `mean` (rounded to 2 decimals) for a list of numbers. Test with `sales` from Exercise 1.1."
      ]
    },
    {
      "cell_type": "code",
      "execution_count": 13,
      "metadata": {},
      "outputs": [
        {
          "name": "stdout",
          "output_type": "stream",
          "text": [
            "{'min': 1, 'max': 1000, 'mean': 500.5}\n"
          ]
        }
      ],
      "source": [
        "# Exercise 2.1: Your code here\n",
        "\n",
        "from statistics import mean\n",
        "\n",
        "test = list(range(1, 1001))\n",
        "\n",
        "def summary_stats(numbers):\n",
        "    vals = {}\n",
        "    vals.update({\"min\": min(numbers)})\n",
        "    vals.update({\"max\": max(numbers)})\n",
        "    vals.update({\"mean\": round(mean(numbers), 2)})\n",
        "\n",
        "    return(vals)\n",
        "\n",
        "print(summary_stats(test))\n",
        "\n"
      ]
    },
    {
      "cell_type": "markdown",
      "metadata": {},
      "source": [
        "### Exercise 2.2: Parameter Defaults\n",
        "Write `apply_discount` that returns the discounted amount and uses a 5% default value for discount. Test with two calls: one using the default, one passing `rate=0.12`. (price = $100.00)"
      ]
    },
    {
      "cell_type": "code",
      "execution_count": 16,
      "metadata": {},
      "outputs": [
        {
          "name": "stdout",
          "output_type": "stream",
          "text": [
            "95.0\n",
            "88.0\n"
          ]
        }
      ],
      "source": [
        "# Exercise 2.2: Your code here\n",
        "\n",
        "def apply_discount(price, rate=0.05):\n",
        "    return round(price * (1-rate), 2)\n",
        "\n",
        "print(apply_discount(100.00))\n",
        "print(apply_discount(100.00, rate=0.12))"
      ]
    },
    {
      "cell_type": "markdown",
      "metadata": {},
      "source": [
        "### Exercise 2.3: Pure Function vs. Side Effects\n",
        "A pure function is a function that:\n",
        "\n",
        "* Always gives the same output for the same inputs.\n",
        "* Does not change anything outside the function (it does not modify variables, lists, or other data that were created outside of it).\n",
        "\n",
        "External state means any variable, object, or data structure that exists outside the function — for example, a list or variable defined before the function is called. If a function changes this external state, it has a side effect.\n",
        "\n",
        "Your task:\n",
        "1. Write a function add_points(current, points) that returns a new total score.\n",
        "\n",
        "2. Write a function append_note(notes, msg) that takes a list of notes and a message, and appends the message to the list.\n",
        "\n",
        "3. Explain which function is pure and why."
      ]
    },
    {
      "cell_type": "code",
      "execution_count": 20,
      "metadata": {},
      "outputs": [
        {
          "name": "stdout",
          "output_type": "stream",
          "text": [
            "45 7\n",
            "52\n",
            "45 7\n",
            "['hi', 'bye', 'hola', 'adios'] Good day!\n",
            "['hi', 'bye', 'hola', 'adios', 'Good day!']\n",
            "['hi', 'bye', 'hola', 'adios', 'Good day!'] Good day!\n"
          ]
        }
      ],
      "source": [
        "# Exercise 2.3: Your code here\n",
        "\n",
        "current = 45\n",
        "points = 7\n",
        "def add_points(current, points):\n",
        "    total = current + points\n",
        "    return total\n",
        "print(current, points)\n",
        "print(add_points(current, points))\n",
        "print(current, points)\n",
        "\n",
        "notes = [\"hi\", \"bye\", \"hola\", \"adios\"]\n",
        "msg = \"Good day!\"\n",
        "def append_note(notes, msg):\n",
        "    notes.append(msg)\n",
        "    return notes\n",
        "print(notes, msg)\n",
        "print(append_note(notes, msg))\n",
        "print(notes, msg)\n",
        "\n",
        "# add_points is a pure function because you're creating a new output (total) from two inputs (current, points) without altering either of the 2 inputs in the function"
      ]
    },
    {
      "cell_type": "markdown",
      "metadata": {},
      "source": [
        "---\n",
        "\n",
        "## 🧠 Section 3: Basic Algorithms\n",
        "\n",
        "### Exercise 3.1: Linear Search\n",
        "Implement `linear_search(items, target)` to return the index of `target` in `items`, or `-1` if not found. Test with `items = [\"red\", \"blue\", \"green\", \"blue\"]` and `target = \"green\"."
      ]
    },
    {
      "cell_type": "code",
      "execution_count": 22,
      "metadata": {},
      "outputs": [
        {
          "name": "stdout",
          "output_type": "stream",
          "text": [
            "2\n"
          ]
        }
      ],
      "source": [
        "# Exercise 3.1: Your code here\n",
        "\n",
        "items = [\"red\", \"blue\", \"green\", \"blue\"]\n",
        "target = \"green\"\n",
        "def linear_search(items, target):\n",
        "    try: \n",
        "        return items.index(target)\n",
        "    except:\n",
        "        return -1\n",
        "    \n",
        "print(linear_search(items, target))\n"
      ]
    },
    {
      "cell_type": "markdown",
      "metadata": {},
      "source": [
        "(part 2) How does the behavior change once checking for \"blue\"? Can you fix the problem?"
      ]
    },
    {
      "cell_type": "code",
      "execution_count": 39,
      "metadata": {},
      "outputs": [
        {
          "name": "stdout",
          "output_type": "stream",
          "text": [
            "1, 3\n"
          ]
        }
      ],
      "source": [
        "# Exercise 3.1: Your code here (second part)\n",
        "import numpy as np\n",
        "\n",
        "items = [\"red\", \"blue\", \"green\", \"blue\"]\n",
        "target = \"blue\"\n",
        "def linear_search(items, target):\n",
        "    indexes = []\n",
        "    for i, word in enumerate(items):\n",
        "        # print(i, word)\n",
        "        if word == target:\n",
        "            # print(\"condition met\")\n",
        "            indexes.append(i)\n",
        "            # print(indexes)\n",
        "    string_indexes = \", \".join(str(n) for n in indexes)\n",
        "    if len(indexes) == 0:\n",
        "        return -1\n",
        "    return string_indexes\n",
        "\n",
        "    \n",
        "print(linear_search(items, target))"
      ]
    },
    {
      "cell_type": "markdown",
      "metadata": {},
      "source": [
        "### Exercise 3.2: Find Maximum/Minimum (Manual)\n",
        "Without using `max()` or `min()`, iterate **once** over `numbers = [7, 3, 11, 4, 9]` to compute both `min_val` and `max_val`."
      ]
    },
    {
      "cell_type": "code",
      "execution_count": 41,
      "metadata": {},
      "outputs": [
        {
          "name": "stdout",
          "output_type": "stream",
          "text": [
            "Min: 3 Max: 11\n"
          ]
        }
      ],
      "source": [
        "# Exercise 3.2: Your code here\n",
        "numbers = [7, 3, 11, 4, 9]\n",
        "\n",
        "min_val = 9999999999999999\n",
        "max_val = 0\n",
        "\n",
        "for i in numbers:\n",
        "    if(i < min_val):\n",
        "        min_val = i\n",
        "    if(i > max_val):\n",
        "        max_val = i\n",
        "\n",
        "print(\"Min:\", min_val, \"Max:\", max_val)\n",
        "    \n"
      ]
    },
    {
      "cell_type": "markdown",
      "metadata": {},
      "source": [
        "### Exercise 3.3: Frequency Count\n",
        "Given `departments = [\"Sales\", \"HR\", \"Sales\", \"IT\", \"IT\", \"IT\"]`, build a frequency dictionary mapping department → count using a loop."
      ]
    },
    {
      "cell_type": "code",
      "execution_count": 43,
      "metadata": {},
      "outputs": [
        {
          "name": "stdout",
          "output_type": "stream",
          "text": [
            "{'Sales': 2, 'HR': 1, 'IT': 3}\n"
          ]
        }
      ],
      "source": [
        "# Exercise 3.3: Your code here\n",
        "\n",
        "departments = [\"Sales\", \"HR\", \"Sales\", \"IT\", \"IT\", \"IT\"]\n",
        "\n",
        "def department_map(teams):\n",
        "    department_ratio = {}\n",
        "    for i in teams:\n",
        "        if i not in department_ratio:\n",
        "            department_ratio[i] = 1\n",
        "        elif i in department_ratio:\n",
        "            department_ratio[i] += 1\n",
        "    return department_ratio\n",
        "\n",
        "print(department_map(departments))"
      ]
    },
    {
      "cell_type": "markdown",
      "metadata": {},
      "source": [
        "---\n",
        "\n",
        "## 🚀 Challenge Problems (Optional)\n",
        "\n",
        "1. Moving Average: Write `moving_average(nums, window)` that returns a list of averages for each contiguous window (ignore windows that don’t fit).\n",
        "2. Order-Preserving Dedup: Given a list of names with duplicates, return a new list with the first occurrence kept and later duplicates removed, preserving order.\n",
        "\n"
      ]
    },
    {
      "cell_type": "code",
      "execution_count": null,
      "metadata": {},
      "outputs": [
        {
          "name": "stdout",
          "output_type": "stream",
          "text": [
            "[[100, 88, 99, 65], [88, 99, 65, 74], [99, 65, 74, 31], [65, 74, 31, 55], [74, 31, 55, 40], [31, 55, 40, 2], [55, 40, 2, 1], [40, 2, 1, 30], [2, 1, 30, 25], [1, 30, 25, 22], [30, 25, 22, 7]]\n",
            "[88, 81.5, 67.25, 56.25, 50, 32, 24.5, 18.25, 14.5, 19.5, 21]\n"
          ]
        }
      ],
      "source": [
        "from statistics import mean\n",
        "\n",
        "nums = [100, 88, 99, 65, 74, 31, 55, 40, 2, 1, 30, 25, 22, 7]\n",
        "\n",
        "#assuming that nums is a list of numbers\n",
        "#assuming that window refers to the window size\n",
        "def moving_average(nums, window):\n",
        "    if window > len(nums):\n",
        "        return (\"window size was to big for nums please try again\")\n",
        "    series = []\n",
        "    series_avg = []\n",
        "    for i in range(len(nums) - window + 1):\n",
        "        series.append(nums[i:i+window])\n",
        "    series_avg = [mean(i) for i in series]\n",
        "    print(series)\n",
        "    return series_avg\n",
        "            \n",
        "# print(moving_average(nums, len(nums)+12))\n",
        "print(moving_average(nums, 4))"
      ]
    },
    {
      "cell_type": "code",
      "execution_count": null,
      "metadata": {},
      "outputs": [],
      "source": []
    },
    {
      "cell_type": "markdown",
      "metadata": {},
      "source": [
        "---\n",
        "\n",
        "## 🤔 Reflection Questions\n",
        "\n",
        "1. Where did loops simplify your code the most today? I think the use of enumerate in the for loop in exercise 3.1 was the most useful because I was able to extract 2 conditions rather than just 1 like in cases where you couldn't use a loop. \n",
        "2. How did functions improve clarity or reuse? Functions organize any operations you perform in programming and allow those operations to be called repeatedly. \n",
        "3. How would you explain linear search and max in plain English? Linear is going through a series of values one at a time, whereas max just identifies the max value in a series. Max is good and faster if you just want to know the max, but if you want to do more work with the series of values linear search would be better. \n",
        "\n"
      ]
    },
    {
      "cell_type": "markdown",
      "metadata": {},
      "source": [
        "---\n",
        "\n",
        "## 📚 Additional Resources\n",
        "\n",
        "- Python For Loops: `https://docs.python.org/3/tutorial/controlflow.html#for-statements`\n",
        "- While Loops: `https://docs.python.org/3/tutorial/introduction.html#first-steps-towards-programming`\n",
        "- Defining Functions: `https://docs.python.org/3/tutorial/controlflow.html#defining-functions`\n",
        "- Algorithms (intro): `https://runestone.academy/ns/books/published/pythonds/AlgorithmAnalysis/toctree.html`\n",
        "\n",
        "---\n"
      ]
    }
  ],
  "metadata": {
    "kernelspec": {
      "display_name": "Python 3",
      "language": "python",
      "name": "python3"
    },
    "language_info": {
      "codemirror_mode": {
        "name": "ipython",
        "version": 3
      },
      "file_extension": ".py",
      "mimetype": "text/x-python",
      "name": "python",
      "nbconvert_exporter": "python",
      "pygments_lexer": "ipython3",
      "version": "3.12.6"
    }
  },
  "nbformat": 4,
  "nbformat_minor": 2
}
