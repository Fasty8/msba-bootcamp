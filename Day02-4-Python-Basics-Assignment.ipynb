{
  "cells": [
    {
      "cell_type": "markdown",
      "metadata": {},
      "source": [
        "# Day 2: Python Basics, Data Structures, and Control Flow\n",
        "## Instructions & Exercises\n",
        "\n",
        "Welcome to Day 2! Today you will practice Python fundamentals. You'll work with variables and basic data types, core collection types, and decision-making with conditionals.\n",
        "\n",
        "---\n"
      ]
    },
    {
      "cell_type": "markdown",
      "metadata": {},
      "source": [
        "## 🎯 Learning Objectives\n",
        "\n",
        "By the end of this lesson, you will be able to:\n",
        "1. Create and use variables of different basic types (numbers, strings, booleans)\n",
        "2. Work with core data structures: lists, tuples, dictionaries, and sets\n",
        "3. Apply conditional logic using `if`/`elif`/`else` for business rules\n",
        "\n",
        "---\n"
      ]
    },
    {
      "cell_type": "markdown",
      "metadata": {},
      "source": [
        "## 🧱 Section 1: Variables, Expressions, and Basic Data Types\n",
        "\n",
        "Python supports several basic data types:\n",
        "- Numbers: `int` (integers), `float` (decimals)\n",
        "- Strings: sequences of characters, e.g., \"Hello\"\n",
        "- Booleans: `True` or `False`\n",
        "\n",
        "### Exercise 1.1: Variables & Types\n",
        "Create variables for:\n",
        "- A product name (string)\n",
        "- A unit price (float)\n",
        "- A quantity in stock (integer)\n",
        "- A flag `is_active` (boolean)\n",
        "\n",
        "Then:\n",
        "1. Print their values and types using `type()`\n",
        "2. Compute `inventory_value = unit_price * quantity`\n",
        "3. Print a formatted message summarizing the product with its inventory value\n",
        "\n"
      ]
    },
    {
      "cell_type": "code",
      "execution_count": 1,
      "metadata": {},
      "outputs": [
        {
          "name": "stdout",
          "output_type": "stream",
          "text": [
            "<class 'str'> <class 'float'> <class 'int'> <class 'bool'>\n",
            "Product: Audi R8, Unit Price: $2350000.00\n"
          ]
        }
      ],
      "source": [
        "# Exercise 1.1: Your code here\n",
        "\n",
        "# 1) Define variables: product_name (str), unit_price (float), quantity (int), is_active (bool)\n",
        "# 2) Print values and types\n",
        "# 3) Compute inventory_value and print a summary message\n",
        "\n",
        "product_name = \"Audi R8\"\n",
        "unit_price = 2350000.00\n",
        "quantity = 333\n",
        "is_active = True\n",
        "\n",
        "print(type(product_name), type(unit_price), type(quantity), type(is_active))\n",
        "inventory_value = unit_price * quantity\n",
        "print(f\"Product: {product_name}, Unit Price: ${unit_price:.2f}\")"
      ]
    },
    {
      "cell_type": "markdown",
      "metadata": {},
      "source": [
        "### Exercise 1.2: String Operations\n",
        "Given a variable `full_name`, do the following:\n",
        "1. Clean whitespace from both ends\n",
        "2. Convert to title case\n",
        "3. Extract initials (first letter of first and last names)\n",
        "4. Create a username by combining lowercase last name and the last 2 digits of a `student_id` number\n",
        "\n"
      ]
    },
    {
      "cell_type": "code",
      "execution_count": 2,
      "metadata": {},
      "outputs": [
        {
          "name": "stdout",
          "output_type": "stream",
          "text": [
            "JD\n",
            "Doe56\n"
          ]
        }
      ],
      "source": [
        "# Exercise 1.2: Your code here\n",
        "\n",
        "# full_name = \"  your name here  \"\n",
        "# student_id = 123456\n",
        "# Steps: strip -> title -> initials -> username\n",
        "\n",
        "full_name = \"  John Doe  \"\n",
        "student_id = 123456\n",
        "full_name = full_name.strip().title()\n",
        "initials = ''\n",
        "name_parts = []\n",
        "\n",
        "for word in full_name.split():\n",
        "    initials += word[0].upper()\n",
        "    name_parts.append(word)\n",
        "print(initials)\n",
        "\n",
        "last_name = name_parts[-1]\n",
        "last_student_id = str(student_id)[-2:]\n",
        "\n",
        "username = last_name + last_student_id\n",
        "print(username)\n"
      ]
    },
    {
      "cell_type": "markdown",
      "metadata": {},
      "source": [
        "### Exercise 1.3: Numeric Expressions\n",
        "You are given `price = 19.99`, `tax_rate = 0.0625`, and `discount = 0.10`.\n",
        "1. Compute `subtotal` for a quantity of 3\n",
        "2. Compute `tax` on the discounted subtotal\n",
        "3. Compute `total` = discounted subtotal + tax\n",
        "4. Round `total` to 2 decimal places\n",
        "\n"
      ]
    },
    {
      "cell_type": "code",
      "execution_count": 3,
      "metadata": {},
      "outputs": [
        {
          "name": "stdout",
          "output_type": "stream",
          "text": [
            "57.346312499999996\n"
          ]
        }
      ],
      "source": [
        "# Exercise 1.3: Your code here\n",
        "\n",
        "price = 19.99\n",
        "tax_rate = 0.0625\n",
        "discount = 0.10\n",
        "\n",
        "subtotal = 3 * (price * (1 + tax_rate) * (1 - discount))\n",
        "print(subtotal)\n"
      ]
    },
    {
      "cell_type": "markdown",
      "metadata": {},
      "source": [
        "---\n",
        "\n",
        "## 📦 Section 2: Core Data Structures\n",
        "\n",
        "You'll work with lists, tuples, dictionaries, and sets.\n",
        "\n",
        "### Exercise 2.1: Lists\n",
        "Create a list `sales` with daily sales: `[120, 98, 145, 130, 160]`.\n",
        "1. Append a new day's sales `150`\n",
        "2. Compute min, max, and average\n",
        "3. Replace the third value with `155`\n",
        "4. Slice the last three days\n",
        "\n"
      ]
    },
    {
      "cell_type": "code",
      "execution_count": 17,
      "metadata": {},
      "outputs": [
        {
          "name": "stdout",
          "output_type": "stream",
          "text": [
            "[120, 98, 145, 130, 160]\n",
            "[120, 98, 145, 130, 160, 150]\n",
            "Min: 98 Max: 160 Mean: 133.83333333333334\n",
            "[120, 98, 155, 130, 160, 150]\n",
            "[130, 160, 150]\n"
          ]
        }
      ],
      "source": [
        "# Exercise 2.1: Your code here\n",
        "\n",
        "from numpy import mean\n",
        "\n",
        "\n",
        "sales = [120, 98, 145, 130, 160]\n",
        "print(sales)\n",
        "\n",
        "sales.append(150)\n",
        "print(sales)\n",
        "\n",
        "print(\"Min:\", min(sales),\"Max:\", max(sales), \"Mean:\", mean(sales))\n",
        "\n",
        "sales[2] = 155\n",
        "print(sales)\n",
        "\n",
        "last_three = sales[-3:]\n",
        "print(last_three)\n"
      ]
    },
    {
      "cell_type": "markdown",
      "metadata": {},
      "source": [
        "### Exercise 2.2: Tuples\n",
        "Given a tuple `product = (\"SKU123\", \"Sneakers\", 89.99)` representing `(sku, name, price)`, do the following:\n",
        "1. Unpack the tuple into variables\n",
        "2. Try to change the price; what happens?\n",
        "3. Create a new tuple with the updated price `79.99`\n",
        "\n"
      ]
    },
    {
      "cell_type": "code",
      "execution_count": 24,
      "metadata": {},
      "outputs": [
        {
          "name": "stdout",
          "output_type": "stream",
          "text": [
            "5.0\n",
            "('SKU123', 'Sneakers', 89.99)\n",
            "('SKU123', 'Sneakers', 5.0)\n"
          ]
        }
      ],
      "source": [
        "# Exercise 2.2: Your code here\n",
        "\n",
        "product = (\"SKU123\", \"Sneakers\", 89.99)\n",
        "sku, name, price = product\n",
        "\n",
        "# print(sku, name, price)\n",
        "price = 5.00\n",
        "print(price)\n",
        "print(product)\n",
        "\n",
        "updated = (sku, name, price)\n",
        "print(updated)"
      ]
    },
    {
      "cell_type": "markdown",
      "metadata": {},
      "source": [
        "### Exercise 2.3: Dictionaries\n",
        "Create a dictionary `customer` with keys: `id`, `name`, `tier` (e.g., Bronze/Silver/Gold), and `points`.\n",
        "1. Access and print the customer's tier\n",
        "2. Add a new key `email`\n",
        "3. Increase `points` by 250\n",
        "4. Get a default value for a missing key `phone` using `get`\n",
        "\n"
      ]
    },
    {
      "cell_type": "code",
      "execution_count": 28,
      "metadata": {},
      "outputs": [
        {
          "name": "stdout",
          "output_type": "stream",
          "text": [
            "Silver\n",
            "{'id': 1001, 'name': 'Alex Kim', 'tier': 'Silver', 'points': 1450, 'email': 'AlexKim@gmail.com'}\n",
            "N/A\n"
          ]
        }
      ],
      "source": [
        "# Exercise 2.3: Your code here\n",
        "\n",
        "customer = {\"id\": 1001, \"name\": \"Alex Kim\", \"tier\": \"Silver\", \"points\": 1200}\n",
        "\n",
        "print(customer[\"tier\"])\n",
        "\n",
        "customer[\"email\"] = \"AlexKim@gmail.com\"\n",
        "customer[\"points\"] += 250\n",
        "print(customer)\n",
        "\n",
        "phone = customer.get(\"phone\", \"N/A\")\n",
        "print(phone)\n"
      ]
    },
    {
      "cell_type": "markdown",
      "metadata": {},
      "source": [
        "### Exercise 2.4: Sets\n",
        "Given `purchased_items = [\"apple\", \"banana\", \"apple\", \"orange\", \"banana\", \"grape\"]`:\n",
        "1. Use a set to find unique items\n",
        "2. Add a new item `\"strawberry\"`\n",
        "3. Check if `\"banana\"` is in the set\n",
        "4. Compute the intersection with `promo_items = {\"banana\", \"kiwi\", \"grape\"}`\n",
        "\n"
      ]
    },
    {
      "cell_type": "code",
      "execution_count": 5,
      "metadata": {},
      "outputs": [
        {
          "name": "stdout",
          "output_type": "stream",
          "text": [
            "{'banana', 'apple', 'grape', 'orange'}\n",
            "{'banana', 'strawberry', 'apple', 'orange', 'grape'}\n",
            "True\n",
            "['banana', 'grape']\n"
          ]
        }
      ],
      "source": [
        "# Exercise 2.4: Your code here\n",
        "\n",
        "purchased_items = [\"apple\", \"banana\", \"apple\", \"orange\", \"banana\", \"grape\"]\n",
        "promo_items = {\"banana\", \"kiwi\", \"grape\"}\n",
        "\n",
        "unique_items = set(purchased_items)\n",
        "print(unique_items)\n",
        "\n",
        "unique_items.add(\"strawberry\")\n",
        "print(unique_items)\n",
        "\n",
        "if \"banana\" in unique_items:\n",
        "    print(True)\n",
        "else:\n",
        "    print(False)\n",
        "\n",
        "intersection = list(unique_items.intersection(promo_items))\n",
        "print(intersection)\n"
      ]
    },
    {
      "cell_type": "markdown",
      "metadata": {},
      "source": [
        "---\n",
        "\n",
        "## 🔀 Section 3: Control Flow with Conditionals\n",
        "\n",
        "Use `if`, `elif`, and `else` to implement business logic.\n",
        "\n",
        "### Exercise 3.1: Shipping Cost Rules\n",
        "You work for an e-commerce store.\n",
        "- Orders below $50: $7.99 shipping\n",
        "- Orders $50 to $99.99: $4.99 shipping\n",
        "- Orders $100 and above: free shipping\n",
        "\n",
        "Given an `order_total`, compute `shipping_cost` and `grand_total`.\n",
        "\n"
      ]
    },
    {
      "cell_type": "code",
      "execution_count": 7,
      "metadata": {},
      "outputs": [
        {
          "name": "stdout",
          "output_type": "stream",
          "text": [
            "91.49\n"
          ]
        }
      ],
      "source": [
        "# Exercise 3.1: Your code here\n",
        "\n",
        "order_total = 86.50\n",
        "\n",
        "def costs(amount):\n",
        "    shipping_cost = 0.0\n",
        "    if(amount < 50):\n",
        "        shipping_cost = 7.99\n",
        "    if(amount >= 50 and amount <= 99.99):\n",
        "        shipping_cost = 4.99\n",
        "    grand_total = shipping_cost + amount\n",
        "    return grand_total\n",
        "\n",
        "print(costs(order_total))"
      ]
    },
    {
      "cell_type": "markdown",
      "metadata": {},
      "source": [
        "### Exercise 3.2: Loyalty Discount\n",
        "Given a customer's `tier` (Bronze/Silver/Gold) and `order_total`:\n",
        "- Bronze: 0% discount\n",
        "- Silver: 5% discount\n",
        "- Gold: 10% discount\n",
        "\n",
        "Compute the `discount_amount` and `final_total`. Use conditionals; do not use dictionaries for this one.\n",
        "\n"
      ]
    },
    {
      "cell_type": "code",
      "execution_count": 8,
      "metadata": {},
      "outputs": [
        {
          "name": "stdout",
          "output_type": "stream",
          "text": [
            "190.0\n"
          ]
        }
      ],
      "source": [
        "# Exercise 3.2: Your code here\n",
        "\n",
        "tier = \"Silver\"\n",
        "order_total = 200.00\n",
        "\n",
        "def tiers(tier, amount):\n",
        "    discount_amount = 0\n",
        "    if(tier == \"Silver\"):\n",
        "        discount_amount = 0.05\n",
        "    if(tier == \"Gold\"):\n",
        "        discount_amount = 0.1\n",
        "    final_total = amount * (1 - discount_amount)\n",
        "    return final_total\n",
        "\n",
        "print(tiers(tier, order_total))\n"
      ]
    },
    {
      "cell_type": "markdown",
      "metadata": {},
      "source": [
        "### Exercise 3.3: Fraud Check\n",
        "Write logic that flags an order as potentially fraudulent if any of the following are true:\n",
        "- Order total > $1,000 and shipping country is not \"US\"\n",
        "- Billing and shipping addresses are different AND order total > $500\n",
        "- Customer is not active (`is_active == False`) but placed an order\n",
        "\n",
        "Set a boolean `is_fraud` accordingly and print a message.\n",
        "\n"
      ]
    },
    {
      "cell_type": "code",
      "execution_count": 9,
      "metadata": {},
      "outputs": [
        {
          "name": "stdout",
          "output_type": "stream",
          "text": [
            "True\n"
          ]
        }
      ],
      "source": [
        "# Exercise 3.3: Your code here\n",
        "\n",
        "order_total = 1200.00\n",
        "shipping_country = \"CA\"\n",
        "billing_address = \"123 A St\"\n",
        "shipping_address = \"789 B Ave\"\n",
        "is_active = True\n",
        "\n",
        "def fraud(amount, location, billing_address, shipping_address):\n",
        "    is_fraud = False\n",
        "    if(amount > 1000 and location != \"US\"):\n",
        "        is_fraud = True\n",
        "    if(billing_address != shipping_address and order_total > 500):\n",
        "        is_fraud = True\n",
        "    if(is_active == False and amount > 0):\n",
        "        is_fraud = True\n",
        "    return is_fraud\n",
        "\n",
        "print(fraud(order_total, shipping_country, billing_address, shipping_address))\n",
        "\n"
      ]
    },
    {
      "cell_type": "markdown",
      "metadata": {},
      "source": [
        "---\n",
        "\n",
        "## 🚀 Challenge Problems\n",
        "\n",
        "### Challenge 1: Basket Summary\n",
        "Given a list of `(item_name, price)` tuples representing a shopping basket, compute:\n",
        "- Total before tax\n",
        "- Unique item count\n",
        "- Most expensive item\n",
        "- A comma-separated summary string of item names in alphabetical order\n",
        "\n"
      ]
    },
    {
      "cell_type": "code",
      "execution_count": 8,
      "metadata": {},
      "outputs": [
        {
          "name": "stdout",
          "output_type": "stream",
          "text": [
            "[('apple', 1.411764705882353), ('banana', 0.9317647058823529), ('steak', 12.225882352941177), ('banana', 0.9317647058823529)]\n",
            "3\n",
            "('steak', 12.99)\n",
            "apple, banana, banana, steak\n"
          ]
        }
      ],
      "source": [
        "# Challenge 1: Your code here\n",
        "\n",
        "basket = [(\"apple\", 1.50), (\"banana\", 0.99), (\"steak\", 12.99), (\"banana\", 0.99)]\n",
        "\n",
        "totals_pre_tax = []\n",
        "names = []\n",
        "\n",
        "for name, cost in basket:\n",
        "    totals_pre_tax.append((name, (cost / (1+0.0625))))\n",
        "    names.append(name)\n",
        "print(totals_pre_tax)\n",
        "\n",
        "print(len(set(basket)))\n",
        "\n",
        "print(max(basket))\n",
        "\n",
        "names = sorted(names)\n",
        "result = ', '.join(names)\n",
        "print(result)"
      ]
    },
    {
      "cell_type": "markdown",
      "metadata": {},
      "source": [
        "### Challenge 2: Promo Eligibility\n",
        "Given `customer = {\"tier\": \"Gold\", \"points\": 3200}` and a set `eligible_tiers = {\"Silver\", \"Gold\"}`:\n",
        "- If the tier is eligible and points >= 3000, print \"Eligible for Promo\"\n",
        "- Otherwise, print the reason why not"
      ]
    },
    {
      "cell_type": "code",
      "execution_count": 15,
      "metadata": {},
      "outputs": [
        {
          "name": "stdout",
          "output_type": "stream",
          "text": [
            "Eligible for Promo\n"
          ]
        }
      ],
      "source": [
        "# Challenge 2: Your code here\n",
        "\n",
        "customer = {\"tier\": \"Gold\", \"points\": 3200}\n",
        "eligible_tiers = {\"Silver\", \"Gold\"}\n",
        "\n",
        "def eligibility(customer, tiers):\n",
        "    tier_cond = False\n",
        "    point_cond = False\n",
        "    if (customer[\"tier\"] in tiers):\n",
        "        tier_cond = True\n",
        "    if (customer[\"points\"] >= 3000):\n",
        "        point_cond = True\n",
        "    return tier_cond, point_cond\n",
        "\n",
        "def messages():\n",
        "    tier_cond, point_cond = eligibility(customer, eligible_tiers)\n",
        "    if (tier_cond == False and point_cond == False):\n",
        "        return (\"Sorry, you aren't a high enough tier and don't have enough points.\")\n",
        "    elif (tier_cond == True and point_cond == False):\n",
        "        return (\"Sorry, you don't have enough points.\")\n",
        "    elif (tier_cond == False and point_cond == True):\n",
        "        return (\"Sorry, you aren't a high enough tier.\")\n",
        "    return (\"Eligible for Promo\")\n",
        "\n",
        "print(messages())"
      ]
    },
    {
      "cell_type": "markdown",
      "metadata": {},
      "source": [
        "---\n",
        "\n",
        "## 🤔 Reflection Questions\n",
        "\n",
        "After completing the exercises, reflect on these questions:\n",
        "\n",
        "1. How do Python's core data structures (list, tuple, dict, set) differ in mutability and typical use-cases? all data structures besides tuples are mutable. Lists are good if you want to modify data. Tuples are good if you have data that won't be changed. Dictionaires are good for storing mapping values to assorted keys. Set is good for clearing out duplicates in data structures. \n",
        "2. What new string or numeric operations did you find most useful today? I think for strings .lower and .casefold to be the most useful especially when trying to find an exact match for strings. I think the most useful numeric operation we learned is modulo because theres so many cases where looking for the remainder of a function is useful. \n",
        "3. In what business scenarios would conditional logic be essential? Theres so many cases where something needs to be checked in order for a value to be calculated or operation to be performed. I think we saw a lot of great examples where when an order exceeds a certain amount then shipping is a set cost, or detecting fraud theres so many examples where conditional logic works in a business scenario. \n",
        "4. What was tricky, and how did you resolve it? differentiating between various syntaxes between lists, tuples, and dictionaries. I found sometimes I'd use the right funciton but for the wrong storage and in some cases follow a Java or C syntax rather than Python. \n",
        "\n"
      ]
    },
    {
      "cell_type": "markdown",
      "metadata": {},
      "source": [
        "---\n",
        "\n",
        "## 📚 Additional Resources\n",
        "\n",
        "- Official Python Tutorial: `https://docs.python.org/3/tutorial/`\n",
        "- Built-in Types (numbers, strings, sequences, sets, mappings): `https://docs.python.org/3/library/stdtypes.html`\n",
        "- String Methods: `https://docs.python.org/3/library/stdtypes.html#string-methods`\n",
        "- If/Else statements: `https://docs.python.org/3/tutorial/controlflow.html#if-statements`\n",
        "\n",
        "---\n",
        "\n",
        "Great work on Day 2! 🎉\n"
      ]
    }
  ],
  "metadata": {
    "kernelspec": {
      "display_name": "Python 3",
      "language": "python",
      "name": "python3"
    },
    "language_info": {
      "codemirror_mode": {
        "name": "ipython",
        "version": 3
      },
      "file_extension": ".py",
      "mimetype": "text/x-python",
      "name": "python",
      "nbconvert_exporter": "python",
      "pygments_lexer": "ipython3",
      "version": "3.12.6"
    }
  },
  "nbformat": 4,
  "nbformat_minor": 2
}
