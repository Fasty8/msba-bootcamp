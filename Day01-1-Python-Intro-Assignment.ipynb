{
  "cells": [
    {
      "cell_type": "markdown",
      "metadata": {},
      "source": [
        "# Day 1: Python Programming Fundamentals\n",
        "## Instructions & Exercises\n",
        "\n",
        "Welcome to your first day of Python programming! This notebook contains exercises and instructions to help you learn programming fundamentals, pseudocode, and basic Python concepts.\n",
        "\n",
        "---\n"
      ]
    },
    {
      "cell_type": "markdown",
      "metadata": {},
      "source": [
        "## 📚 Section 1 Solutions: Programming Fundamentals & Computational Thinking\n",
        "\n",
        "### Exercise 1.1 Solution: Problem Decomposition\n",
        "\n",
        "**Sample Answer for making a PB&J sandwich:**\n",
        "\n",
        "1. Gather materials: bread, peanut butter, jelly, knife, plate\n",
        "2. Check that bread is not moldy\n",
        "3. Place two slices of bread on the plate\n",
        "4. Open the peanut butter jar by twisting the lid counter-clockwise\n",
        "5. Insert knife into peanut butter jar\n",
        "6. Scoop out approximately 1 tablespoon of peanut butter on the knife\n",
        "7. Spread peanut butter evenly on ONE slice of bread\n",
        "8. Wipe knife clean with a paper towel\n",
        "9. Open jelly jar by twisting lid counter-clockwise\n",
        "10. Insert clean knife into jelly jar\n",
        "11. Scoop out approximately 1 tablespoon of jelly\n",
        "12. Spread jelly evenly on the OTHER slice of bread\n",
        "13. Place the peanut butter slice face-down on top of the jelly slice\n",
        "14. Gently press together\n",
        "15. Cut diagonally if desired\n",
        "16. Clean up materials\n",
        "\n",
        "**Key Learning**: Breaking problems into small, specific steps helps identify potential issues and ensures nothing is forgotten.\n"
      ]
    },
    {
      "cell_type": "markdown",
      "metadata": {},
      "source": [
        "## 📚 Section 1 Solutions: Programming Fundamentals & Computational Thinking\n",
        "\n",
        "### Exercise 1.1 Solution: Problem Decomposition\n",
        "\n",
        "**Sample Answer for making a PB&J sandwich:**\n",
        "\n",
        "1. Gather materials: bread, peanut butter, jelly, knife, plate\n",
        "2. Check that bread is not moldy\n",
        "3. Place two slices of bread on the plate\n",
        "4. Open the peanut butter jar by twisting the lid counter-clockwise\n",
        "5. Insert knife into peanut butter jar\n",
        "6. Scoop out approximately 1 tablespoon of peanut butter on the knife\n",
        "7. Spread peanut butter evenly on ONE slice of bread\n",
        "8. Wipe knife clean with a paper towel\n",
        "9. Open jelly jar by twisting lid counter-clockwise\n",
        "10. Insert clean knife into jelly jar\n",
        "11. Scoop out approximately 1 tablespoon of jelly\n",
        "12. Spread jelly evenly on the OTHER slice of bread\n",
        "13. Place the peanut butter slice face-down on top of the jelly slice\n",
        "14. Gently press together\n",
        "15. Cut diagonally if desired\n",
        "16. Clean up materials\n",
        "\n",
        "**Key Learning**: Breaking problems into small, specific steps helps identify potential issues and ensures nothing is forgotten.\n"
      ]
    },
    {
      "cell_type": "markdown",
      "metadata": {},
      "source": [
        "## 🎯 Learning Objectives\n",
        "\n",
        "By the end of this lesson, you will be able to:\n",
        "1. Understand computational thinking and problem-solving approaches\n",
        "2. Write pseudocode to outline solutions\n",
        "3. Design basic algorithms for simple problems\n",
        "4. Write and run your first Python program\n",
        "5. Understand how Python code interacts with computer hardware\n",
        "\n",
        "---\n"
      ]
    },
    {
      "cell_type": "markdown",
      "metadata": {},
      "source": [
        "## 📚 Section 1: Programming Fundamentals & Computational Thinking\n",
        "\n",
        "### What is Computational Thinking?\n",
        "\n",
        "Computational thinking is a problem-solving approach that involves:\n",
        "- **Decomposition**: Breaking down complex problems into smaller, manageable parts\n",
        "- **Pattern Recognition**: Identifying similarities and patterns in problems\n",
        "- **Abstraction**: Focusing on essential features while ignoring irrelevant details\n",
        "- **Algorithm Design**: Creating step-by-step solutions\n",
        "\n",
        "### Exercise 1.1: Problem Decomposition\n",
        "\n",
        "**Task**: Think about how you would explain to a friend how to make a peanut butter and jelly sandwich. Break this down into the smallest possible steps.\n",
        "\n",
        "**Instructions**: \n",
        "1. In the cell below, list out every single step required\n",
        "2. Be as detailed as possible (assume your friend has never made a sandwich before)\n",
        "3. Think about what could go wrong at each step\n"
      ]
    },
    {
      "cell_type": "markdown",
      "metadata": {},
      "source": [
        "**Your Answer for Exercise 1.1:**\n",
        "\n",
        "<!-- Write your step-by-step instructions here -->\n",
        "\n"
      ]
    },
    {
      "cell_type": "markdown",
      "metadata": {},
      "source": [
        "1. Purchase the following supplies from a seller: Peanut Butter, Jelly, 2 slices of bread, a cutting board and a knife\n",
        "2. Take out the cutting board and place it on a flat surface. \n",
        "3. On the cutting board takeout and place the 2 slices of bread face down so the bread is flat on the cutting board\n",
        "    3a. If you got a non presliced loaf of bread slice 2 pieces using the following tutorial: https://www.youtube.com/watch?v=flZbgKUAC80 \n",
        "4. Place the peanut butter and jelly on the flat surface\n",
        "5. Remove the lids of the peanut butter and jelly containers \n",
        "6. Pickup the knife with your dominant hand\n",
        "7. insert the knife into the peanut butter jar\n",
        "8. Remove the knife when the knife is covered in peanut butter\n",
        "9. Drag the peanut butter covered knife on one of the slices of bread until all the peanut butter is on the bread rather than on the knife\n",
        "10. Insert the knife into the jelly jar\n",
        "11. Remove the knife when the knife is covered in jelly\n",
        "12. Drag the jelly covered knife on one of the slices of bread until all the jelly is on the bread rather than on the knife\n",
        "13. Place knife out of reach on the flat surface\n",
        "14. Pick up the peanut butter covered bread and place it on the jelly covered slice bread\n",
        "15. Pick up the knife with your dominant hand\n",
        "16. Place knife in the top right corner of the sandwich and drag the knife to the bottom right corner of the bread"
      ]
    },
    {
      "cell_type": "markdown",
      "metadata": {},
      "source": [
        "### Exercise 1.2: Pattern Recognition\n",
        "\n",
        "**Task**: Look at these number sequences and identify the patterns:\n",
        "\n",
        "1. 2, 4, 6, 8, 10, ?, ?\n",
        "2. 1, 4, 9, 16, 25, ?, ?\n",
        "3. 1, 1, 2, 3, 5, 8, ?, ?\n",
        "\n",
        "**Instructions**: \n",
        "1. Identify the pattern in each sequence\n",
        "2. Predict the next two numbers\n",
        "3. Explain the rule for each pattern\n"
      ]
    },
    {
      "cell_type": "markdown",
      "metadata": {},
      "source": [
        "**Your Answer for Exercise 1.2:**\n",
        "\n",
        "1. Pattern: increasing by 2, Next numbers: 12, 14\n",
        "2. Pattern: Squared numbers, Next numbers: 36, 49\n",
        "3. Pattern: fibonaci sequence, Next numbers: 13, 21\n"
      ]
    },
    {
      "cell_type": "markdown",
      "metadata": {},
      "source": [
        "---\n",
        "\n",
        "## 📝 Section 2: Pseudocode & Algorithm Design\n",
        "\n",
        "### What is Pseudocode?\n",
        "\n",
        "Pseudocode is a way to describe an algorithm using plain language that's structured like programming code. It helps you plan your solution before writing actual code.\n",
        "\n",
        "### Pseudocode Guidelines:\n",
        "- Use simple, clear language\n",
        "- Structure your logic with indentation\n",
        "- Use keywords like START, END, IF, THEN, ELSE, WHILE, FOR\n",
        "- Focus on the logic, not the syntax\n",
        "\n",
        "### Example Pseudocode:\n",
        "```\n",
        "START\n",
        "    INPUT user's age\n",
        "    IF age >= 18 THEN\n",
        "        OUTPUT \"You can vote\"\n",
        "    ELSE\n",
        "        OUTPUT \"You cannot vote yet\"\n",
        "    END IF\n",
        "END\n",
        "```\n",
        "\n",
        "### Exercise 2.1: Writing Pseudocode\n",
        "\n",
        "**Task**: Write pseudocode for finding the largest number among three numbers.\n",
        "\n",
        "**Instructions**: \n",
        "1. Think about the steps needed to compare three numbers\n",
        "2. Use proper pseudocode structure\n",
        "3. Consider all possible cases\n"
      ]
    },
    {
      "cell_type": "markdown",
      "metadata": {},
      "source": [
        "**Your Pseudocode for Exercise 2.1:**\n",
        "\n",
        "```\n",
        "START\n",
        "    INPUT 3 numbers\n",
        "    max = 0\n",
        "    FOR i in Numbers THEN \n",
        "        IF i > max THEN\n",
        "            max = i\n",
        "        END IF\n",
        "    END FOR\n",
        "    OUTPUT max\n",
        "END\n",
        "```\n"
      ]
    },
    {
      "cell_type": "markdown",
      "metadata": {},
      "source": [
        "### Exercise 2.2: Algorithm for Simple Calculator\n",
        "\n",
        "**Task**: Write pseudocode for a simple calculator that can add, subtract, multiply, or divide two numbers.\n",
        "\n",
        "**Instructions**: \n",
        "1. Your algorithm should ask the user for two numbers and an operation\n",
        "2. Perform the calculation\n",
        "3. Display the result\n",
        "4. Handle division by zero\n"
      ]
    },
    {
      "cell_type": "markdown",
      "metadata": {},
      "source": [
        "**Your Pseudocode for Exercise 2.2:**\n",
        "\n",
        "```\n",
        "START\n",
        "    // Write your calculator pseudocode here\n",
        "    INPUT number1, number2, operation\n",
        "    calculation = 0\n",
        "    IF operation = \"+\" THEN\n",
        "        OUTPUT number1 + number2\n",
        "    END IF\n",
        "    IF operation = \"*\" THEN\n",
        "        OUTPUT number1 * number2\n",
        "    END IF\n",
        "    IF operation = \"-\" THEN\n",
        "        OUTPUT number1 - number2\n",
        "    END IF\n",
        "    IF operation = \"/\" THEN\n",
        "        IF number2 = 0 THEN\n",
        "            OUTPUT \"Nice try but you can't divide by zero\"\n",
        "        ELSE THEN\n",
        "            OUTPUT number1 / number2\n",
        "        END IF\n",
        "    END IF\n",
        "END\n",
        "```\n"
      ]
    },
    {
      "cell_type": "markdown",
      "metadata": {},
      "source": [
        "---\n",
        "\n",
        "## 🐍 Section 3: Getting Started with Python\n",
        "\n",
        "### What is Python?\n",
        "\n",
        "Python is a high-level programming language that:\n",
        "- Is easy to read and write\n",
        "- Has simple syntax similar to English\n",
        "- Is widely used in data science, web development, and automation\n",
        "- Runs on an interpreter (translates code to machine language)\n",
        "\n",
        "### How Python Interacts with Hardware:\n",
        "\n",
        "1. **You write Python code** (human-readable)\n",
        "2. **Python interpreter** translates it to bytecode\n",
        "3. **Python Virtual Machine** executes bytecode\n",
        "4. **Operating System** manages hardware resources\n",
        "5. **Hardware** (CPU, memory, storage) executes instructions\n",
        "\n",
        "### Exercise 3.1: Your First Python Program\n",
        "\n",
        "**Task**: Write a \"Hello World\" program that displays a welcome message.\n",
        "\n",
        "**Instructions**: \n",
        "1. Use the `print()` function to display text\n",
        "2. Make your message personal and welcoming\n",
        "3. Run the cell to see your output\n"
      ]
    },
    {
      "cell_type": "code",
      "execution_count": 1,
      "metadata": {},
      "outputs": [
        {
          "name": "stdout",
          "output_type": "stream",
          "text": [
            "Hello World\n"
          ]
        }
      ],
      "source": [
        "# Exercise 3.1: Write your \"Hello World\" program here\n",
        "\n",
        "# Your code here\n",
        "print(\"Hello World\")"
      ]
    },
    {
      "cell_type": "markdown",
      "metadata": {},
      "source": [
        "### Exercise 3.2: Variables and Input\n",
        "\n",
        "**Task**: Create a program that asks for the student's name and program, then displays a personalized message.\n",
        "\n",
        "**Instructions**: \n",
        "1. Use `input()` function to get user input\n",
        "2. Store the input in variables\n",
        "3. Use `print()` to display a message using the variables\n",
        "4. Remember: `input()` always returns a string!\n"
      ]
    },
    {
      "cell_type": "code",
      "execution_count": 2,
      "metadata": {},
      "outputs": [
        {
          "name": "stdout",
          "output_type": "stream",
          "text": [
            "jesse beef\n"
          ]
        }
      ],
      "source": [
        "# Exercise 3.2: Personal Information Program\n",
        "\n",
        "# Your code here\n",
        "response = input(\"What's your name and program\")\n",
        "print(response)"
      ]
    },
    {
      "cell_type": "markdown",
      "metadata": {},
      "source": [
        "### Exercise 3.3: Implementing Your Pseudocode\n",
        "\n",
        "**Task**: Convert your pseudocode from Exercise 2.1 (finding the largest of three numbers) into actual Python code.\n",
        "\n",
        "**Instructions**: \n",
        "1. Ask the user to input three numbers\n",
        "2. Convert the inputs to integers using `int()`\n",
        "3. Use `if`, `elif`, and `else` statements\n",
        "4. Display which number is the largest\n"
      ]
    },
    {
      "cell_type": "code",
      "execution_count": 5,
      "metadata": {},
      "outputs": [
        {
          "name": "stdout",
          "output_type": "stream",
          "text": [
            "8\n"
          ]
        }
      ],
      "source": [
        "# Exercise 3.3: Find the Largest Number\n",
        "\n",
        "# Your code here\n",
        "num1 = input(\"please input number 1\")\n",
        "num2 = input(\"please input number 2\")\n",
        "num3 = input(\"please input number 3\")\n",
        "vals = [int(num1), int(num2), int(num3)]\n",
        "max = 0\n",
        "for i in vals: \n",
        "    if i > max:\n",
        "        max = i\n",
        "print(max)"
      ]
    },
    {
      "cell_type": "markdown",
      "metadata": {},
      "source": [
        "### Exercise 3.4: Simple Calculator Implementation\n",
        "\n",
        "**Task**: Convert your calculator pseudocode from Exercise 2.2 into Python code.\n",
        "\n",
        "**Instructions**: \n",
        "1. Ask for two numbers and an operation (+, -, *, /)\n",
        "2. Use conditional statements to perform the right operation\n",
        "3. Handle division by zero with an appropriate message\n",
        "4. Display the result clearly\n"
      ]
    },
    {
      "cell_type": "code",
      "execution_count": 13,
      "metadata": {},
      "outputs": [
        {
          "name": "stdout",
          "output_type": "stream",
          "text": [
            "Haha nice try but you can't divide numbers by zero. Please try again with a different input\n"
          ]
        }
      ],
      "source": [
        "# Exercise 3.4: Simple Calculator\n",
        "\n",
        "# Your code here\n",
        "num1 = input(\"input your number in the first position\")\n",
        "operation = input(\"What operation do you want to do? (+, -, *, /)\")\n",
        "num2 = input(\"input your number in the second position\")\n",
        "num1 = int(num1)\n",
        "num2 = int(num2)\n",
        "if operation == \"+\":\n",
        "    print(num1 + num2)\n",
        "if operation == \"-\":\n",
        "    print(num1 - num2)\n",
        "if operation == \"*\":\n",
        "    print(num1 * num2)\n",
        "if operation == \"/\":\n",
        "    if num2 == 0:\n",
        "        print(\"Haha nice try but you can't divide numbers by zero. Please try again with a different input\")\n",
        "    else: \n",
        "        print(num1 / num2)"
      ]
    },
    {
      "cell_type": "markdown",
      "metadata": {},
      "source": [
        "---\n",
        "\n",
        "## 🚀 Challenge Problems\n",
        "\n",
        "### Challenge 1: Number Guessing Game\n",
        "\n",
        "**Task**: Create a simple number guessing game.\n",
        "\n",
        "**Requirements**: \n",
        "1. The computer \"thinks\" of a number between 1 and 10 (you can hard-code this for now)\n",
        "2. Ask the user to guess the number\n",
        "3. Tell them if their guess is too high, too low, or correct\n",
        "4. Give them a maximum of 3 tries\n"
      ]
    },
    {
      "cell_type": "code",
      "execution_count": 15,
      "metadata": {},
      "outputs": [
        {
          "name": "stdout",
          "output_type": "stream",
          "text": [
            "Too Low! Try again\n",
            "Too Low! Try again\n",
            "Correct!!\n",
            "8\n"
          ]
        }
      ],
      "source": [
        "# Challenge 1: Number Guessing Game\n",
        "\n",
        "# Your code here\n",
        "import random\n",
        "computer = random.randint(1, 10)\n",
        "for attempts in range(3):\n",
        "    user = int(input(\"Guess a number between 1-10 (inclusive)\"))\n",
        "    if user == computer:\n",
        "        print(\"Correct!!\")\n",
        "        break\n",
        "    if user < computer: \n",
        "        print(\"Too Low! Try again\")\n",
        "    if user > computer: \n",
        "        print(\"Too High! Try again\")\n",
        "print(computer)\n"
      ]
    },
    {
      "cell_type": "markdown",
      "metadata": {},
      "source": [
        "### Challenge 2: Grade Calculator\n",
        "\n",
        "**Task**: Create a program that calculates a student's letter grade based on their numeric score.\n",
        "\n",
        "**Requirements**: \n",
        "1. Ask for a numeric grade (0-100)\n",
        "2. Convert to letter grade using this scale:\n",
        "   - A: 90-100\n",
        "   - B: 80-89\n",
        "   - C: 70-79\n",
        "   - D: 60-69\n",
        "   - F: Below 60\n",
        "3. Display both the numeric and letter grade\n"
      ]
    },
    {
      "cell_type": "code",
      "execution_count": null,
      "metadata": {},
      "outputs": [
        {
          "name": "stdout",
          "output_type": "stream",
          "text": [
            "You got a 75 Which is a C\n"
          ]
        }
      ],
      "source": [
        "# Challenge 2: Grade Calculator\n",
        "\n",
        "# Your code here\n",
        "val = int(input(\"Input a numeric grade based on the scale above (0-100)\"))\n",
        "grade = \"\"\n",
        "if val >= 90:\n",
        "    grade = \"A\"\n",
        "elif val >= 80:\n",
        "    grade = \"B\"\n",
        "elif val >= 70:\n",
        "    grade = \"C\" \n",
        "elif val >= 60:\n",
        "    grade = \"D\"\n",
        "else:\n",
        "    grade = \"F\"\n",
        "\n",
        "print(\"You got a\", val, \"which is a\", grade)"
      ]
    },
    {
      "cell_type": "markdown",
      "metadata": {},
      "source": [
        "---\n",
        "\n",
        "## 🤔 Reflection Questions\n",
        "\n",
        "After completing the exercises, reflect on these questions:\n",
        "\n",
        "1. **Problem Solving**: How did breaking down problems into smaller steps help you?\n",
        "\n",
        "2. **Pseudocode vs. Code**: What was the difference between writing pseudocode and actual Python code?\n",
        "\n",
        "3. **Debugging**: What errors did you encounter, and how did you fix them?\n",
        "\n",
        "4. **Computational Thinking**: How can you apply these problem-solving skills to other areas of your life?\n",
        "\n",
        "**Write your reflections below:**\n"
      ]
    },
    {
      "cell_type": "markdown",
      "metadata": {},
      "source": [
        "**Your Reflections:**\n",
        "\n",
        "1. Problem Solving: It let me think it early on and make optimizations at each iteration.\n",
        "\n",
        "2. Pseudocode vs. Code: The psuedocode was like a draft that got me to start thinking of the problem, it might not be 100% correct but it got me thinking. Thy python code forced me to make the tweaks and optimizations to complete the task at hand. \n",
        "\n",
        "3. Debugging: I ran into a string parsing error i thought you had to do .equals for strings in python, but that's java and was a simple fix.\n",
        "\n",
        "4. Computational Thinking: It's an overall methodical thinking like I mentioned it's like writing a draft rather than going straight into the problem so you are already thinking about the task at hand. \n"
      ]
    },
    {
      "cell_type": "markdown",
      "metadata": {},
      "source": [
        "---\n",
        "\n",
        "## 📚 Additional Resources\n",
        "\n",
        "- [Python.org Official Tutorial](https://docs.python.org/3/tutorial/)\n",
        "- [Computational Thinking Concepts](https://www.cs.cmu.edu/~15110-s13/Wing06-ct.pdf)\n",
        "- [Algorithm Design Techniques](https://www.geeksforgeeks.org/fundamentals-of-algorithms/)\n",
        "\n",
        "---\n",
        "\n",
        "## ✅ What's Next?\n",
        "\n",
        "In the next class, we'll cover:\n",
        "- Data types and variables in more detail\n",
        "- Loops and iterations\n",
        "- Functions and code organization\n",
        "- Working with lists and basic data structures\n",
        "\n",
        "**Great job completing Day 1! 🎉**\n"
      ]
    }
  ],
  "metadata": {
    "kernelspec": {
      "display_name": "Python 3",
      "language": "python",
      "name": "python3"
    },
    "language_info": {
      "codemirror_mode": {
        "name": "ipython",
        "version": 3
      },
      "file_extension": ".py",
      "mimetype": "text/x-python",
      "name": "python",
      "nbconvert_exporter": "python",
      "pygments_lexer": "ipython3",
      "version": "3.12.6"
    }
  },
  "nbformat": 4,
  "nbformat_minor": 2
}
